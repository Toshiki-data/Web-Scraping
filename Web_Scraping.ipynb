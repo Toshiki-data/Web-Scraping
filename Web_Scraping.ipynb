{
  "nbformat": 4,
  "nbformat_minor": 0,
  "metadata": {
    "colab": {
      "provenance": []
    },
    "kernelspec": {
      "name": "python3",
      "display_name": "Python 3"
    },
    "language_info": {
      "name": "python"
    }
  },
  "cells": [
    {
      "cell_type": "code",
      "source": [
        "import requests\n",
        "\n",
        "# Fetch the HTML of the target page\n",
        "res = requests.get('url')\n",
        "res.text"
      ],
      "metadata": {
        "id": "mkoodD6tus21"
      },
      "execution_count": null,
      "outputs": []
    },
    {
      "cell_type": "code",
      "source": [
        "from bs4 import BeautifulSoup\n",
        "\n",
        "# Create a BeautifulSoup object\n",
        "soup = BeautifulSoup(res.text, 'html.parser')"
      ],
      "metadata": {
        "id": "RK-T4Y6cqIlq"
      },
      "execution_count": null,
      "outputs": []
    },
    {
      "cell_type": "markdown",
      "source": [
        "# Preparation: extract only the skills"
      ],
      "metadata": {
        "id": "MiiPaxeKp5zc"
      }
    },
    {
      "cell_type": "code",
      "source": [
        "# Retrieve span tags\n",
        "skills = soup.find_all('span', class_='skills')\n",
        "\n",
        "[skill.string for skill in skills]"
      ],
      "metadata": {
        "id": "jOxyysBXyjMp"
      },
      "execution_count": null,
      "outputs": []
    },
    {
      "cell_type": "markdown",
      "source": [
        "# Preparation: extract only the course names"
      ],
      "metadata": {
        "id": "YmhHSjY8qwBq"
      }
    },
    {
      "cell_type": "code",
      "source": [
        "# Retrieve h3 tags\n",
        "courses = soup.find_all('h3', class_='course')\n",
        "\n",
        "[course.string for course in courses]"
      ],
      "metadata": {
        "id": "lfg5i0tX7_Zz"
      },
      "execution_count": null,
      "outputs": []
    },
    {
      "cell_type": "markdown",
      "source": [
        "# Extract both course names and skill names"
      ],
      "metadata": {
        "id": "pxGyeXCo8MzO"
      }
    },
    {
      "cell_type": "code",
      "source": [
        "# Retrieve div tags\n",
        "divs = soup.find_all('div', attrs={'attr-data': 'course'})"
      ],
      "metadata": {
        "id": "Znj433TcDik0"
      },
      "execution_count": null,
      "outputs": []
    },
    {
      "cell_type": "markdown",
      "source": [
        "Verify data retrieved"
      ],
      "metadata": {
        "id": "mE7ebAk9xqkD"
      }
    },
    {
      "cell_type": "code",
      "source": [
        "len(divs)"
      ],
      "metadata": {
        "id": "5w3kDPnfG2Y4"
      },
      "execution_count": null,
      "outputs": []
    },
    {
      "cell_type": "code",
      "source": [
        "# An error occurs here: an element without an h3 (course name) was included as the 11th item\n",
        "# divs[11].find('h3', class_='course').string\n",
        "\n",
        "# Remove the problematic element\n",
        "divs = divs[:-1]"
      ],
      "metadata": {
        "id": "EB6lTTM1GGJW"
      },
      "execution_count": null,
      "outputs": []
    },
    {
      "cell_type": "code",
      "source": [
        "len(divs)"
      ],
      "metadata": {
        "id": "xwxQFlGPHdqf"
      },
      "execution_count": null,
      "outputs": []
    },
    {
      "cell_type": "markdown",
      "source": [
        "Use a for loop to extract both course names and their skills"
      ],
      "metadata": {
        "id": "nRgv9Tqhx1f_"
      }
    },
    {
      "cell_type": "code",
      "source": [
        "data = []\n",
        "\n",
        "for div in divs:\n",
        "    course = div.find('h3', class_='course').string\n",
        "    skills = [skill.string for skill in div.find_all('span', class_='skill')]\n",
        "\n",
        "    row = [course] + skills\n",
        "    data.append(row)\n",
        "\n",
        "print(data)"
      ],
      "metadata": {
        "id": "6imYXnL5DlpD"
      },
      "execution_count": null,
      "outputs": []
    },
    {
      "cell_type": "markdown",
      "source": [
        "Normalize the number of elements in each row to convert into a DataFrame"
      ],
      "metadata": {
        "id": "TXPp8c0fuDhM"
      }
    },
    {
      "cell_type": "code",
      "source": [
        "# Find the maximum number of skills\n",
        "max_len = max(len(row) for row in data)\n",
        "\n",
        "# Add empty cells to match the maximum number of columns\n",
        "for row in data:\n",
        "    while len(row) < max_len:\n",
        "        row.append('')  # Fill missing values with blanks"
      ],
      "metadata": {
        "id": "KjbqxIEq9w8W"
      },
      "execution_count": null,
      "outputs": []
    },
    {
      "cell_type": "markdown",
      "source": [
        "Convert to a DataFrame"
      ],
      "metadata": {
        "id": "abxX70JJ9HZq"
      }
    },
    {
      "cell_type": "code",
      "source": [
        "import pandas as pd\n",
        "\n",
        "columns = ['Course'] + [f'Skill{i}' for i in range(1, max_len)]\n",
        "df = pd.DataFrame(data, columns=columns)"
      ],
      "metadata": {
        "id": "n5kYo6ERIQq-"
      },
      "execution_count": null,
      "outputs": []
    },
    {
      "cell_type": "markdown",
      "source": [
        "Export the DataFrame in Excel format"
      ],
      "metadata": {
        "id": "7hAosHaiu2bf"
      }
    },
    {
      "cell_type": "code",
      "source": [
        "df.to_excel(\"CousesAndSkills.xlsx\", index=False)"
      ],
      "metadata": {
        "id": "Yp0hI0fXISaF"
      },
      "execution_count": null,
      "outputs": []
    }
  ]
}